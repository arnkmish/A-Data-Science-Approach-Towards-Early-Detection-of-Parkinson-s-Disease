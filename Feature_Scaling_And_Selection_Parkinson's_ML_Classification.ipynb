{
  "nbformat": 4,
  "nbformat_minor": 0,
  "metadata": {
    "colab": {
      "name": "Feature_Scaling_And_Selection_Parkinson's_ML_Classification.ipynb",
      "provenance": [],
      "collapsed_sections": []
    },
    "kernelspec": {
      "name": "python3",
      "display_name": "Python 3"
    },
    "language_info": {
      "name": "python"
    }
  },
  "cells": [
    {
      "cell_type": "markdown",
      "source": [
        "# An Experimental Study on Speech Based Parkinson's Disease Detection With Feature Scaling and Selection - ML Notebook.\n",
        "\n"
      ],
      "metadata": {
        "id": "SCzQ-3ncO5bf"
      }
    },
    {
      "cell_type": "markdown",
      "source": [
        "In this Notebook we explore the preditive capabilities of baseline ML models on the task of speech feature based Parkinson's disease detection, when it is coupled with Feature Scaling and Selection. The experimental results from this notebook can be used to establish an understanding of how Feature Scaling and Selection can impact the overall classification performance. Since according to the baseline classification results Gradient Boosting Classifier achieved the best classification results."
      ],
      "metadata": {
        "id": "Nkre7UGbPJhF"
      }
    },
    {
      "cell_type": "markdown",
      "source": [
        "For the purpose experimentation a publicly available dataset is utilized, \n",
        "\n",
        "\n",
        "\n",
        "*   Sakar, C., Serbes, Gorkem, Gunduz, Aysegul, Nizam, Hatice & Sakar, Betul. (2018). Parkinson's Disease Classification. UCI Machine Learning Repository. (https://archive-beta.ics.uci.edu/ml/datasets/parkinson+s+disease+classification)\n",
        "\n",
        "\n",
        "\n",
        "\n"
      ],
      "metadata": {
        "id": "VkZPzDQ5PiVM"
      }
    },
    {
      "cell_type": "markdown",
      "source": [
        "The dataset is present as a csv file, which is worked on next."
      ],
      "metadata": {
        "id": "iDLq6rqWQ7EA"
      }
    },
    {
      "cell_type": "code",
      "execution_count": 2,
      "metadata": {
        "colab": {
          "base_uri": "https://localhost:8080/"
        },
        "id": "yCVfSODDNmHx",
        "outputId": "97e504cc-cceb-45be-ca28-c27f20eaaeb7"
      },
      "outputs": [
        {
          "output_type": "stream",
          "name": "stdout",
          "text": [
            "Mounted at /content/gdrive\n"
          ]
        }
      ],
      "source": [
        "# Connect to Google Drive to access dataset\n",
        "from google.colab import drive\n",
        "\n",
        "drive.mount('/content/gdrive')"
      ]
    },
    {
      "cell_type": "code",
      "source": [
        "# Check dataset filenames\n",
        "import os\n",
        "import pandas as pd\n",
        "import numpy as np\n",
        "\n",
        "pd_df = pd.read_csv('/content/gdrive/My Drive/pd_speech_features.csv', header=None)\n",
        "pd_df = pd_df.drop(pd_df.index[0])\n",
        "new_header = pd_df.iloc[0] #grab the first row for the header\n",
        "pd_df = pd_df[1:] #take the data less the header row\n",
        "pd_df.columns = new_header #set the header row as the df header\n",
        "pd_df.head()"
      ],
      "metadata": {
        "colab": {
          "base_uri": "https://localhost:8080/",
          "height": 241
        },
        "id": "4SldMnNsOj0b",
        "outputId": "0121d577-3527-4855-9307-55c6724a6bd7"
      },
      "execution_count": 3,
      "outputs": [
        {
          "output_type": "execute_result",
          "data": {
            "text/plain": [
              "1 id gender      PPE      DFA     RPDE numPulses numPeriodsPulses  \\\n",
              "2  0      1  0.85247  0.71826  0.57227       240              239   \n",
              "3  0      1  0.76686  0.69481  0.53966       234              233   \n",
              "4  0      1  0.85083  0.67604  0.58982       232              231   \n",
              "5  1      0  0.41121  0.79672  0.59257       178              177   \n",
              "6  1      0   0.3279  0.79782  0.53028       236              235   \n",
              "\n",
              "1 meanPeriodPulses stdDevPeriodPulses locPctJitter  ...  \\\n",
              "2       0.00806353           8.68E-05      0.00218  ...   \n",
              "3      0.008258256           7.31E-05      0.00195  ...   \n",
              "4       0.00833959           6.04E-05      0.00176  ...   \n",
              "5      0.010857733        0.000182739      0.00419  ...   \n",
              "6      0.008161574        0.002668863      0.00535  ...   \n",
              "\n",
              "1 tqwt_kurtosisValue_dec_28 tqwt_kurtosisValue_dec_29  \\\n",
              "2                     1.562                    2.6445   \n",
              "3                    1.5589                    3.6107   \n",
              "4                    1.5643                    2.3308   \n",
              "5                    3.7805                    3.5664   \n",
              "6                    6.1727                    5.8416   \n",
              "\n",
              "1 tqwt_kurtosisValue_dec_30 tqwt_kurtosisValue_dec_31  \\\n",
              "2                    3.8686                    4.2105   \n",
              "3                   23.5155                   14.1962   \n",
              "4                    9.4959                   10.7458   \n",
              "5                    5.2558                   14.0403   \n",
              "6                    6.0805                    5.7621   \n",
              "\n",
              "1 tqwt_kurtosisValue_dec_32 tqwt_kurtosisValue_dec_33  \\\n",
              "2                    5.1221                    4.4625   \n",
              "3                   11.0261                    9.5082   \n",
              "4                   11.0177                    4.8066   \n",
              "5                    4.2235                    4.6857   \n",
              "6                    7.7817                   11.6891   \n",
              "\n",
              "1 tqwt_kurtosisValue_dec_34 tqwt_kurtosisValue_dec_35  \\\n",
              "2                    2.6202                    3.0004   \n",
              "3                    6.5245                    6.3431   \n",
              "4                    2.9199                    3.1495   \n",
              "5                     4.846                     6.265   \n",
              "6                    8.2103                    5.0559   \n",
              "\n",
              "1 tqwt_kurtosisValue_dec_36 class  \n",
              "2                   18.9405     1  \n",
              "3                    45.178     1  \n",
              "4                    4.7666     1  \n",
              "5                    4.0603     1  \n",
              "6                    6.1164     1  \n",
              "\n",
              "[5 rows x 755 columns]"
            ],
            "text/html": [
              "\n",
              "  <div id=\"df-a40635bb-758a-4aaa-9e1c-0b1dba4042dc\">\n",
              "    <div class=\"colab-df-container\">\n",
              "      <div>\n",
              "<style scoped>\n",
              "    .dataframe tbody tr th:only-of-type {\n",
              "        vertical-align: middle;\n",
              "    }\n",
              "\n",
              "    .dataframe tbody tr th {\n",
              "        vertical-align: top;\n",
              "    }\n",
              "\n",
              "    .dataframe thead th {\n",
              "        text-align: right;\n",
              "    }\n",
              "</style>\n",
              "<table border=\"1\" class=\"dataframe\">\n",
              "  <thead>\n",
              "    <tr style=\"text-align: right;\">\n",
              "      <th>1</th>\n",
              "      <th>id</th>\n",
              "      <th>gender</th>\n",
              "      <th>PPE</th>\n",
              "      <th>DFA</th>\n",
              "      <th>RPDE</th>\n",
              "      <th>numPulses</th>\n",
              "      <th>numPeriodsPulses</th>\n",
              "      <th>meanPeriodPulses</th>\n",
              "      <th>stdDevPeriodPulses</th>\n",
              "      <th>locPctJitter</th>\n",
              "      <th>...</th>\n",
              "      <th>tqwt_kurtosisValue_dec_28</th>\n",
              "      <th>tqwt_kurtosisValue_dec_29</th>\n",
              "      <th>tqwt_kurtosisValue_dec_30</th>\n",
              "      <th>tqwt_kurtosisValue_dec_31</th>\n",
              "      <th>tqwt_kurtosisValue_dec_32</th>\n",
              "      <th>tqwt_kurtosisValue_dec_33</th>\n",
              "      <th>tqwt_kurtosisValue_dec_34</th>\n",
              "      <th>tqwt_kurtosisValue_dec_35</th>\n",
              "      <th>tqwt_kurtosisValue_dec_36</th>\n",
              "      <th>class</th>\n",
              "    </tr>\n",
              "  </thead>\n",
              "  <tbody>\n",
              "    <tr>\n",
              "      <th>2</th>\n",
              "      <td>0</td>\n",
              "      <td>1</td>\n",
              "      <td>0.85247</td>\n",
              "      <td>0.71826</td>\n",
              "      <td>0.57227</td>\n",
              "      <td>240</td>\n",
              "      <td>239</td>\n",
              "      <td>0.00806353</td>\n",
              "      <td>8.68E-05</td>\n",
              "      <td>0.00218</td>\n",
              "      <td>...</td>\n",
              "      <td>1.562</td>\n",
              "      <td>2.6445</td>\n",
              "      <td>3.8686</td>\n",
              "      <td>4.2105</td>\n",
              "      <td>5.1221</td>\n",
              "      <td>4.4625</td>\n",
              "      <td>2.6202</td>\n",
              "      <td>3.0004</td>\n",
              "      <td>18.9405</td>\n",
              "      <td>1</td>\n",
              "    </tr>\n",
              "    <tr>\n",
              "      <th>3</th>\n",
              "      <td>0</td>\n",
              "      <td>1</td>\n",
              "      <td>0.76686</td>\n",
              "      <td>0.69481</td>\n",
              "      <td>0.53966</td>\n",
              "      <td>234</td>\n",
              "      <td>233</td>\n",
              "      <td>0.008258256</td>\n",
              "      <td>7.31E-05</td>\n",
              "      <td>0.00195</td>\n",
              "      <td>...</td>\n",
              "      <td>1.5589</td>\n",
              "      <td>3.6107</td>\n",
              "      <td>23.5155</td>\n",
              "      <td>14.1962</td>\n",
              "      <td>11.0261</td>\n",
              "      <td>9.5082</td>\n",
              "      <td>6.5245</td>\n",
              "      <td>6.3431</td>\n",
              "      <td>45.178</td>\n",
              "      <td>1</td>\n",
              "    </tr>\n",
              "    <tr>\n",
              "      <th>4</th>\n",
              "      <td>0</td>\n",
              "      <td>1</td>\n",
              "      <td>0.85083</td>\n",
              "      <td>0.67604</td>\n",
              "      <td>0.58982</td>\n",
              "      <td>232</td>\n",
              "      <td>231</td>\n",
              "      <td>0.00833959</td>\n",
              "      <td>6.04E-05</td>\n",
              "      <td>0.00176</td>\n",
              "      <td>...</td>\n",
              "      <td>1.5643</td>\n",
              "      <td>2.3308</td>\n",
              "      <td>9.4959</td>\n",
              "      <td>10.7458</td>\n",
              "      <td>11.0177</td>\n",
              "      <td>4.8066</td>\n",
              "      <td>2.9199</td>\n",
              "      <td>3.1495</td>\n",
              "      <td>4.7666</td>\n",
              "      <td>1</td>\n",
              "    </tr>\n",
              "    <tr>\n",
              "      <th>5</th>\n",
              "      <td>1</td>\n",
              "      <td>0</td>\n",
              "      <td>0.41121</td>\n",
              "      <td>0.79672</td>\n",
              "      <td>0.59257</td>\n",
              "      <td>178</td>\n",
              "      <td>177</td>\n",
              "      <td>0.010857733</td>\n",
              "      <td>0.000182739</td>\n",
              "      <td>0.00419</td>\n",
              "      <td>...</td>\n",
              "      <td>3.7805</td>\n",
              "      <td>3.5664</td>\n",
              "      <td>5.2558</td>\n",
              "      <td>14.0403</td>\n",
              "      <td>4.2235</td>\n",
              "      <td>4.6857</td>\n",
              "      <td>4.846</td>\n",
              "      <td>6.265</td>\n",
              "      <td>4.0603</td>\n",
              "      <td>1</td>\n",
              "    </tr>\n",
              "    <tr>\n",
              "      <th>6</th>\n",
              "      <td>1</td>\n",
              "      <td>0</td>\n",
              "      <td>0.3279</td>\n",
              "      <td>0.79782</td>\n",
              "      <td>0.53028</td>\n",
              "      <td>236</td>\n",
              "      <td>235</td>\n",
              "      <td>0.008161574</td>\n",
              "      <td>0.002668863</td>\n",
              "      <td>0.00535</td>\n",
              "      <td>...</td>\n",
              "      <td>6.1727</td>\n",
              "      <td>5.8416</td>\n",
              "      <td>6.0805</td>\n",
              "      <td>5.7621</td>\n",
              "      <td>7.7817</td>\n",
              "      <td>11.6891</td>\n",
              "      <td>8.2103</td>\n",
              "      <td>5.0559</td>\n",
              "      <td>6.1164</td>\n",
              "      <td>1</td>\n",
              "    </tr>\n",
              "  </tbody>\n",
              "</table>\n",
              "<p>5 rows × 755 columns</p>\n",
              "</div>\n",
              "      <button class=\"colab-df-convert\" onclick=\"convertToInteractive('df-a40635bb-758a-4aaa-9e1c-0b1dba4042dc')\"\n",
              "              title=\"Convert this dataframe to an interactive table.\"\n",
              "              style=\"display:none;\">\n",
              "        \n",
              "  <svg xmlns=\"http://www.w3.org/2000/svg\" height=\"24px\"viewBox=\"0 0 24 24\"\n",
              "       width=\"24px\">\n",
              "    <path d=\"M0 0h24v24H0V0z\" fill=\"none\"/>\n",
              "    <path d=\"M18.56 5.44l.94 2.06.94-2.06 2.06-.94-2.06-.94-.94-2.06-.94 2.06-2.06.94zm-11 1L8.5 8.5l.94-2.06 2.06-.94-2.06-.94L8.5 2.5l-.94 2.06-2.06.94zm10 10l.94 2.06.94-2.06 2.06-.94-2.06-.94-.94-2.06-.94 2.06-2.06.94z\"/><path d=\"M17.41 7.96l-1.37-1.37c-.4-.4-.92-.59-1.43-.59-.52 0-1.04.2-1.43.59L10.3 9.45l-7.72 7.72c-.78.78-.78 2.05 0 2.83L4 21.41c.39.39.9.59 1.41.59.51 0 1.02-.2 1.41-.59l7.78-7.78 2.81-2.81c.8-.78.8-2.07 0-2.86zM5.41 20L4 18.59l7.72-7.72 1.47 1.35L5.41 20z\"/>\n",
              "  </svg>\n",
              "      </button>\n",
              "      \n",
              "  <style>\n",
              "    .colab-df-container {\n",
              "      display:flex;\n",
              "      flex-wrap:wrap;\n",
              "      gap: 12px;\n",
              "    }\n",
              "\n",
              "    .colab-df-convert {\n",
              "      background-color: #E8F0FE;\n",
              "      border: none;\n",
              "      border-radius: 50%;\n",
              "      cursor: pointer;\n",
              "      display: none;\n",
              "      fill: #1967D2;\n",
              "      height: 32px;\n",
              "      padding: 0 0 0 0;\n",
              "      width: 32px;\n",
              "    }\n",
              "\n",
              "    .colab-df-convert:hover {\n",
              "      background-color: #E2EBFA;\n",
              "      box-shadow: 0px 1px 2px rgba(60, 64, 67, 0.3), 0px 1px 3px 1px rgba(60, 64, 67, 0.15);\n",
              "      fill: #174EA6;\n",
              "    }\n",
              "\n",
              "    [theme=dark] .colab-df-convert {\n",
              "      background-color: #3B4455;\n",
              "      fill: #D2E3FC;\n",
              "    }\n",
              "\n",
              "    [theme=dark] .colab-df-convert:hover {\n",
              "      background-color: #434B5C;\n",
              "      box-shadow: 0px 1px 3px 1px rgba(0, 0, 0, 0.15);\n",
              "      filter: drop-shadow(0px 1px 2px rgba(0, 0, 0, 0.3));\n",
              "      fill: #FFFFFF;\n",
              "    }\n",
              "  </style>\n",
              "\n",
              "      <script>\n",
              "        const buttonEl =\n",
              "          document.querySelector('#df-a40635bb-758a-4aaa-9e1c-0b1dba4042dc button.colab-df-convert');\n",
              "        buttonEl.style.display =\n",
              "          google.colab.kernel.accessAllowed ? 'block' : 'none';\n",
              "\n",
              "        async function convertToInteractive(key) {\n",
              "          const element = document.querySelector('#df-a40635bb-758a-4aaa-9e1c-0b1dba4042dc');\n",
              "          const dataTable =\n",
              "            await google.colab.kernel.invokeFunction('convertToInteractive',\n",
              "                                                     [key], {});\n",
              "          if (!dataTable) return;\n",
              "\n",
              "          const docLinkHtml = 'Like what you see? Visit the ' +\n",
              "            '<a target=\"_blank\" href=https://colab.research.google.com/notebooks/data_table.ipynb>data table notebook</a>'\n",
              "            + ' to learn more about interactive tables.';\n",
              "          element.innerHTML = '';\n",
              "          dataTable['output_type'] = 'display_data';\n",
              "          await google.colab.output.renderOutput(dataTable, element);\n",
              "          const docLink = document.createElement('div');\n",
              "          docLink.innerHTML = docLinkHtml;\n",
              "          element.appendChild(docLink);\n",
              "        }\n",
              "      </script>\n",
              "    </div>\n",
              "  </div>\n",
              "  "
            ]
          },
          "metadata": {},
          "execution_count": 3
        },
        {
          "output_type": "stream",
          "name": "stdout",
          "text": [
            "Warning: Total number of columns (755) exceeds max_columns (20) limiting to first (20) columns.\n"
          ]
        }
      ]
    },
    {
      "cell_type": "code",
      "source": [
        "# drop the id column\n",
        "pd_df = pd_df.drop(['id'],axis = 1)\n",
        "\n",
        "# separate out class labels and then drop from dataframe\n",
        "pd_labels_df = pd_df[['class']]\n",
        "pd_features_df = pd_df.drop(['class'],axis=1)\n",
        "\n",
        "print(pd_features_df.head())\n",
        "print(pd_labels_df.head())"
      ],
      "metadata": {
        "colab": {
          "base_uri": "https://localhost:8080/"
        },
        "id": "WcAOgOo1Pj56",
        "outputId": "4ce5bfd0-36b0-45dc-f702-59795eef95ea"
      },
      "execution_count": 4,
      "outputs": [
        {
          "output_type": "stream",
          "name": "stdout",
          "text": [
            "1 gender      PPE      DFA     RPDE numPulses numPeriodsPulses  \\\n",
            "2      1  0.85247  0.71826  0.57227       240              239   \n",
            "3      1  0.76686  0.69481  0.53966       234              233   \n",
            "4      1  0.85083  0.67604  0.58982       232              231   \n",
            "5      0  0.41121  0.79672  0.59257       178              177   \n",
            "6      0   0.3279  0.79782  0.53028       236              235   \n",
            "\n",
            "1 meanPeriodPulses stdDevPeriodPulses locPctJitter locAbsJitter  ...  \\\n",
            "2       0.00806353           8.68E-05      0.00218     1.76E-05  ...   \n",
            "3      0.008258256           7.31E-05      0.00195     1.61E-05  ...   \n",
            "4       0.00833959           6.04E-05      0.00176     1.47E-05  ...   \n",
            "5      0.010857733        0.000182739      0.00419     4.55E-05  ...   \n",
            "6      0.008161574        0.002668863      0.00535     4.37E-05  ...   \n",
            "\n",
            "1 tqwt_kurtosisValue_dec_27 tqwt_kurtosisValue_dec_28  \\\n",
            "2                    1.5466                     1.562   \n",
            "3                     1.553                    1.5589   \n",
            "4                    1.5399                    1.5643   \n",
            "5                    6.9761                    3.7805   \n",
            "6                    7.8832                    6.1727   \n",
            "\n",
            "1 tqwt_kurtosisValue_dec_29 tqwt_kurtosisValue_dec_30  \\\n",
            "2                    2.6445                    3.8686   \n",
            "3                    3.6107                   23.5155   \n",
            "4                    2.3308                    9.4959   \n",
            "5                    3.5664                    5.2558   \n",
            "6                    5.8416                    6.0805   \n",
            "\n",
            "1 tqwt_kurtosisValue_dec_31 tqwt_kurtosisValue_dec_32  \\\n",
            "2                    4.2105                    5.1221   \n",
            "3                   14.1962                   11.0261   \n",
            "4                   10.7458                   11.0177   \n",
            "5                   14.0403                    4.2235   \n",
            "6                    5.7621                    7.7817   \n",
            "\n",
            "1 tqwt_kurtosisValue_dec_33 tqwt_kurtosisValue_dec_34  \\\n",
            "2                    4.4625                    2.6202   \n",
            "3                    9.5082                    6.5245   \n",
            "4                    4.8066                    2.9199   \n",
            "5                    4.6857                     4.846   \n",
            "6                   11.6891                    8.2103   \n",
            "\n",
            "1 tqwt_kurtosisValue_dec_35 tqwt_kurtosisValue_dec_36  \n",
            "2                    3.0004                   18.9405  \n",
            "3                    6.3431                    45.178  \n",
            "4                    3.1495                    4.7666  \n",
            "5                     6.265                    4.0603  \n",
            "6                    5.0559                    6.1164  \n",
            "\n",
            "[5 rows x 753 columns]\n",
            "1 class\n",
            "2     1\n",
            "3     1\n",
            "4     1\n",
            "5     1\n",
            "6     1\n"
          ]
        }
      ]
    },
    {
      "cell_type": "code",
      "source": [
        "allData = pd_features_df.values.tolist()\n",
        "allLabels = pd_labels_df.values.tolist()\n",
        "\n",
        "allData = np.array(allData).astype('float64')\n",
        "allLabels = np.array(allLabels).astype('int')\n",
        "\n",
        "allData = np.array(allData)\n",
        "allLabels = np.array(allLabels).ravel()\n",
        "\n",
        "print(allData.shape)\n",
        "print(allLabels.shape)"
      ],
      "metadata": {
        "colab": {
          "base_uri": "https://localhost:8080/"
        },
        "id": "KTK9DQJXRH2e",
        "outputId": "a4205738-af2d-492f-fcf2-bc8a9ab48ca0"
      },
      "execution_count": 5,
      "outputs": [
        {
          "output_type": "stream",
          "name": "stdout",
          "text": [
            "(756, 753)\n",
            "(756,)\n"
          ]
        }
      ]
    },
    {
      "cell_type": "markdown",
      "source": [
        "### Establish a Baseline with GBC Model"
      ],
      "metadata": {
        "id": "7Cf4yCi_2tFX"
      }
    },
    {
      "cell_type": "code",
      "source": [
        "# First we establish a baseline with GBC, with no preprocessing.\n",
        "from sklearn.ensemble import GradientBoostingClassifier as GBC\n",
        "from sklearn.metrics import confusion_matrix as cm\n",
        "from sklearn import metrics\n",
        "from sklearn.model_selection import train_test_split\n",
        "\n",
        "accList = list()\n",
        "sensList = list()\n",
        "specList = list()\n",
        "aucList = list()\n",
        "\n",
        "for i in range(50):\n",
        "  if i % 10 == 0:\n",
        "    print('Experiment on Train-Test split number '+str(i+1)+' started..')\n",
        "\n",
        "  xTrain, xTest, yTrain, yTest = train_test_split(allData, allLabels, test_size=0.2, stratify=allLabels)\n",
        "\n",
        "  clf = GBC()\n",
        "  clf.fit(xTrain,yTrain)\n",
        "\n",
        "  binPreds = clf.predict(xTest)\n",
        "\n",
        "  TN, FP, FN, TP = cm(binPreds, yTest).ravel()\n",
        "\n",
        "  sens = TP / (TP + FN)\n",
        "  spec = TN / (TN + FP)\n",
        "  acc = (TP + TN) / (TP + FP + TN + FN)\n",
        "\n",
        "\n",
        "  accList.append(acc)\n",
        "  sensList.append(sens)\n",
        "  specList.append(spec)\n",
        "\n",
        "  fpr, tpr, thresholds = metrics.roc_curve(yTest, binPreds, pos_label=1)\n",
        "  aucList.append(metrics.auc(fpr, tpr))\n",
        "\n",
        "print('GBC classification results: \\n')\n",
        "print('Average Accuracy: ',np.mean(accList))\n",
        "print('Average Sensitivity: ',np.mean(sensList))\n",
        "print('Average Specificity: ',np.mean(specList))\n",
        "print('Average AUC: ',np.mean(aucList))"
      ],
      "metadata": {
        "colab": {
          "base_uri": "https://localhost:8080/"
        },
        "id": "kvM43-zJuscE",
        "outputId": "3f82a154-8031-4564-a340-1587dad4359d"
      },
      "execution_count": 6,
      "outputs": [
        {
          "output_type": "stream",
          "name": "stdout",
          "text": [
            "Experiment on Train-Test split number 1 started..\n",
            "Experiment on Train-Test split number 11 started..\n",
            "Experiment on Train-Test split number 21 started..\n",
            "Experiment on Train-Test split number 31 started..\n",
            "Experiment on Train-Test split number 41 started..\n",
            "GBC classification results: \n",
            "\n",
            "Average Accuracy:  0.8855263157894736\n",
            "Average Sensitivity:  0.8858855026650322\n",
            "Average Specificity:  0.8874589753822438\n",
            "Average AUC:  0.8036215112321307\n"
          ]
        }
      ]
    },
    {
      "cell_type": "markdown",
      "source": [
        "### Evaluate the Utility of MinMaxScaler"
      ],
      "metadata": {
        "id": "3fNLll1m2rsZ"
      }
    },
    {
      "cell_type": "code",
      "source": [
        "# Next we evaluate the utility of MinMaxScaler based Feature Scaling.\n",
        "from sklearn.preprocessing import MinMaxScaler\n",
        "\n",
        "accList = list()\n",
        "sensList = list()\n",
        "specList = list()\n",
        "aucList = list()\n",
        "\n",
        "for i in range(50):\n",
        "  if i % 10 == 0:\n",
        "    print('Experiment on Train-Test split number '+str(i+1)+' started..')\n",
        "\n",
        "  xTrain, xTest, yTrain, yTest = train_test_split(allData, allLabels, test_size=0.2, stratify=allLabels)\n",
        "\n",
        "  # Fit a scaler according to xTrain, then transform both xTrain and xTest\n",
        "  scaler = MinMaxScaler()\n",
        "  scaler.fit(xTrain)\n",
        "  xTrain = scaler.transform(xTrain)\n",
        "  xTest = scaler.transform(xTest)\n",
        "\n",
        "  clf = GBC()\n",
        "  clf.fit(xTrain,yTrain)\n",
        "\n",
        "  binPreds = clf.predict(xTest)\n",
        "\n",
        "  TN, FP, FN, TP = cm(binPreds, yTest).ravel()\n",
        "\n",
        "  sens = TP / (TP + FN)\n",
        "  spec = TN / (TN + FP)\n",
        "  acc = (TP + TN) / (TP + FP + TN + FN)\n",
        "\n",
        "\n",
        "  accList.append(acc)\n",
        "  sensList.append(sens)\n",
        "  specList.append(spec)\n",
        "\n",
        "  fpr, tpr, thresholds = metrics.roc_curve(yTest, binPreds, pos_label=1)\n",
        "  aucList.append(metrics.auc(fpr, tpr))\n",
        "\n",
        "print('GBC classification results: \\n')\n",
        "print('Average Accuracy: ',np.mean(accList))\n",
        "print('Average Sensitivity: ',np.mean(sensList))\n",
        "print('Average Specificity: ',np.mean(specList))\n",
        "print('Average AUC: ',np.mean(aucList))"
      ],
      "metadata": {
        "colab": {
          "base_uri": "https://localhost:8080/"
        },
        "id": "2axQa35d0JSV",
        "outputId": "0cc2fc3d-91b8-459e-aae1-b4ceab61c4bd"
      },
      "execution_count": 7,
      "outputs": [
        {
          "output_type": "stream",
          "name": "stdout",
          "text": [
            "Experiment on Train-Test split number 1 started..\n",
            "Experiment on Train-Test split number 11 started..\n",
            "Experiment on Train-Test split number 21 started..\n",
            "Experiment on Train-Test split number 31 started..\n",
            "Experiment on Train-Test split number 41 started..\n",
            "GBC classification results: \n",
            "\n",
            "Average Accuracy:  0.8817105263157895\n",
            "Average Sensitivity:  0.8833005396240781\n",
            "Average Specificity:  0.8788876466923539\n",
            "Average AUC:  0.7983685046516906\n"
          ]
        }
      ]
    },
    {
      "cell_type": "markdown",
      "source": [
        "### Evaluate the Utility of StandardScaler"
      ],
      "metadata": {
        "id": "_Fev3tI724xV"
      }
    },
    {
      "cell_type": "code",
      "source": [
        "# Next we evaluate the utility of MinMaxScaler based Feature Scaling.\n",
        "from sklearn.preprocessing import StandardScaler\n",
        "\n",
        "accList = list()\n",
        "sensList = list()\n",
        "specList = list()\n",
        "aucList = list()\n",
        "\n",
        "for i in range(50):\n",
        "  if i % 10 == 0:\n",
        "    print('Experiment on Train-Test split number '+str(i+1)+' started..')\n",
        "\n",
        "  xTrain, xTest, yTrain, yTest = train_test_split(allData, allLabels, test_size=0.2, stratify=allLabels)\n",
        "\n",
        "  # Fit a scaler according to xTrain, then transform both xTrain and xTest\n",
        "  scaler = StandardScaler()\n",
        "  scaler.fit(xTrain)\n",
        "  xTrain = scaler.transform(xTrain)\n",
        "  xTest = scaler.transform(xTest)\n",
        "\n",
        "  clf = GBC()\n",
        "  clf.fit(xTrain,yTrain)\n",
        "\n",
        "  binPreds = clf.predict(xTest)\n",
        "\n",
        "  TN, FP, FN, TP = cm(binPreds, yTest).ravel()\n",
        "\n",
        "  sens = TP / (TP + FN)\n",
        "  spec = TN / (TN + FP)\n",
        "  acc = (TP + TN) / (TP + FP + TN + FN)\n",
        "\n",
        "\n",
        "  accList.append(acc)\n",
        "  sensList.append(sens)\n",
        "  specList.append(spec)\n",
        "\n",
        "  fpr, tpr, thresholds = metrics.roc_curve(yTest, binPreds, pos_label=1)\n",
        "  aucList.append(metrics.auc(fpr, tpr))\n",
        "\n",
        "print('GBC classification results: \\n')\n",
        "print('Average Accuracy: ',np.mean(accList))\n",
        "print('Average Sensitivity: ',np.mean(sensList))\n",
        "print('Average Specificity: ',np.mean(specList))\n",
        "print('Average AUC: ',np.mean(aucList))"
      ],
      "metadata": {
        "colab": {
          "base_uri": "https://localhost:8080/"
        },
        "id": "cNuQgzEw2-7A",
        "outputId": "5d18853a-eebe-4994-d4f5-e3e20f5acd14"
      },
      "execution_count": 8,
      "outputs": [
        {
          "output_type": "stream",
          "name": "stdout",
          "text": [
            "Experiment on Train-Test split number 1 started..\n",
            "Experiment on Train-Test split number 11 started..\n",
            "Experiment on Train-Test split number 21 started..\n",
            "Experiment on Train-Test split number 31 started..\n",
            "Experiment on Train-Test split number 41 started..\n",
            "GBC classification results: \n",
            "\n",
            "Average Accuracy:  0.8810526315789474\n",
            "Average Sensitivity:  0.8825574769857225\n",
            "Average Specificity:  0.8798134931004691\n",
            "Average AUC:  0.7970864533696391\n"
          ]
        }
      ]
    },
    {
      "cell_type": "markdown",
      "source": [
        "### Evaluate RFECV Based Feature Selection"
      ],
      "metadata": {
        "id": "xKx8j66L64U3"
      }
    },
    {
      "cell_type": "code",
      "source": [
        "from sklearn.feature_selection import RFECV\n",
        "from sklearn.ensemble import RandomForestClassifier as RFC\n",
        "estimatorModel = RFC()\n",
        "\n",
        "# Next we evaluate the utility of MinMaxScaler based Feature Scaling.\n",
        "from sklearn.preprocessing import StandardScaler\n",
        "\n",
        "accList = list()\n",
        "sensList = list()\n",
        "specList = list()\n",
        "aucList = list()\n",
        "\n",
        "for i in range(50):\n",
        "  if i % 10 == 0:\n",
        "    print('Experiment on Train-Test split number '+str(i+1)+' started..')\n",
        "\n",
        "  xTrain, xTest, yTrain, yTest = train_test_split(allData, allLabels, test_size=0.2, stratify=allLabels)\n",
        "\n",
        "  # Feature Selection by RFECV\n",
        "  selector = RFECV(estimatorModel, step=20, cv=3)\n",
        "  selector = selector.fit(xTrain, yTrain)\n",
        "  xTrain = selector.transform(xTrain)\n",
        "  xTest = selector.transform(xTest)\n",
        "\n",
        "  clf = GBC()\n",
        "  clf.fit(xTrain,yTrain)\n",
        "\n",
        "  binPreds = clf.predict(xTest)\n",
        "\n",
        "  TN, FP, FN, TP = cm(binPreds, yTest).ravel()\n",
        "\n",
        "  sens = TP / (TP + FN)\n",
        "  spec = TN / (TN + FP)\n",
        "  acc = (TP + TN) / (TP + FP + TN + FN)\n",
        "\n",
        "\n",
        "  accList.append(acc)\n",
        "  sensList.append(sens)\n",
        "  specList.append(spec)\n",
        "\n",
        "  fpr, tpr, thresholds = metrics.roc_curve(yTest, binPreds, pos_label=1)\n",
        "  aucList.append(metrics.auc(fpr, tpr))\n",
        "\n",
        "print('GBC classification results: \\n')\n",
        "print('Average Accuracy: ',np.mean(accList))\n",
        "print('Average Sensitivity: ',np.mean(sensList))\n",
        "print('Average Specificity: ',np.mean(specList))\n",
        "print('Average AUC: ',np.mean(aucList))"
      ],
      "metadata": {
        "colab": {
          "base_uri": "https://localhost:8080/"
        },
        "id": "tZr7DpSp63xe",
        "outputId": "b7f61297-7793-4e4f-9856-156d044c203e"
      },
      "execution_count": 9,
      "outputs": [
        {
          "output_type": "stream",
          "name": "stdout",
          "text": [
            "Experiment on Train-Test split number 1 started..\n",
            "Experiment on Train-Test split number 11 started..\n",
            "Experiment on Train-Test split number 21 started..\n",
            "Experiment on Train-Test split number 31 started..\n",
            "Experiment on Train-Test split number 41 started..\n",
            "GBC classification results: \n",
            "\n",
            "Average Accuracy:  0.8828947368421054\n",
            "Average Sensitivity:  0.8881704989373824\n",
            "Average Specificity:  0.8650476031007328\n",
            "Average AUC:  0.8053778080326753\n"
          ]
        }
      ]
    },
    {
      "cell_type": "markdown",
      "source": [
        "### Overall findings"
      ],
      "metadata": {
        "id": "Fq9vATK5PrvQ"
      }
    },
    {
      "cell_type": "markdown",
      "source": [
        "GBC Baseline Results\n",
        "\n",
        "1. Average Accuracy:  0.8855263157894736\n",
        "2. Average Sensitivity:  0.8858855026650322\n",
        "3. Average Specificity:  0.8874589753822438\n",
        "4. Average AUC:  0.8036215112321307\n",
        "\n",
        "GBC-MinMaxScaler Results\n",
        "\n",
        "1. Average Accuracy:  0.8817105263157895\n",
        "2. Average Sensitivity:  0.8833005396240781\n",
        "3. Average Specificity:  0.8788876466923539\n",
        "4. Average AUC:  0.7983685046516906\n",
        "\n",
        "GBC-StandardScaler Results\n",
        "\n",
        "1. Average Accuracy:  0.8810526315789474\n",
        "2. Average Sensitivity:  0.8825574769857225\n",
        "3. Average Specificity:  0.8798134931004691\n",
        "4. Average AUC:  0.7970864533696391\n",
        "\n",
        "GBC-RFECV Results\n",
        "\n",
        "1. Average Accuracy:  0.8828947368421054\n",
        "2. Average Sensitivity:  0.8881704989373824\n",
        "3. Average Specificity:  0.8650476031007328\n",
        "4. Average AUC:  0.8053778080326753\n",
        "\n",
        "From these experimental results it is clear that feature scaling is definitely not helping.\n",
        "\n",
        "Feature selection does improve the Avg. AUC and Sensitivity very slightly, however it decreases the Avg. Accuracy and Specificity in a similar way.\n",
        "\n",
        "So far none of these approaches seems to be effective at improving the overall classification performances."
      ],
      "metadata": {
        "id": "hqpnb1gtOhcz"
      }
    }
  ]
}